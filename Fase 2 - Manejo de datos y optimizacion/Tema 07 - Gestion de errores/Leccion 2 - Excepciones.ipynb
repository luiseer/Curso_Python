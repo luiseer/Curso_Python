{
 "cells": [
  {
   "cell_type": "code",
   "execution_count": 1,
   "metadata": {},
   "outputs": [
    {
     "ename": "ValueError",
     "evalue": "could not convert string to float: 'aaaa'",
     "output_type": "error",
     "traceback": [
      "\u001b[0;31m---------------------------------------------------------------------------\u001b[0m",
      "\u001b[0;31mValueError\u001b[0m                                Traceback (most recent call last)",
      "Cell \u001b[0;32mIn[1], line 1\u001b[0m\n\u001b[0;32m----> 1\u001b[0m n \u001b[39m=\u001b[39m \u001b[39mfloat\u001b[39;49m(\u001b[39minput\u001b[39;49m(\u001b[39m\"\u001b[39;49m\u001b[39mIntroduce un número\u001b[39;49m\u001b[39m\"\u001b[39;49m))\n\u001b[1;32m      2\u001b[0m m \u001b[39m=\u001b[39m \u001b[39m4\u001b[39m\n\u001b[1;32m      3\u001b[0m \u001b[39mprint\u001b[39m(\u001b[39m\"\u001b[39m\u001b[39m{}\u001b[39;00m\u001b[39m/\u001b[39m\u001b[39m{}\u001b[39;00m\u001b[39m=\u001b[39m\u001b[39m{}\u001b[39;00m\u001b[39m\"\u001b[39m\u001b[39m.\u001b[39mformat(n,m,n\u001b[39m/\u001b[39mm))\n",
      "\u001b[0;31mValueError\u001b[0m: could not convert string to float: 'aaaa'"
     ]
    }
   ],
   "source": [
    "n = float(input(\"Introduce un número\"))\n",
    "m = 4\n",
    "print(\"{}/{}={}\".format(n,m,n/m))"
   ]
  },
  {
   "cell_type": "code",
   "execution_count": 2,
   "metadata": {},
   "outputs": [
    {
     "name": "stdout",
     "output_type": "stream",
     "text": [
      "Ha ocurrido un error, introduce un dato correcto, Batido!!\n",
      "Ha ocurrido un error, introduce un dato correcto, Batido!!\n",
      "Ha ocurrido un error, introduce un dato correcto, Batido!!\n",
      "12.0/4=3.0\n"
     ]
    }
   ],
   "source": [
    "while(True):\n",
    "    try:\n",
    "        n = float(input(\"Introduce un número\"))\n",
    "        m = 4\n",
    "        print(\"{}/{}={}\".format(n,m,n/m))\n",
    "        break #importante romper la ejecución\n",
    "    except:\n",
    "        print(\"Ha ocurrido un error, introduce un dato correcto, Batido!!\")"
   ]
  },
  {
   "cell_type": "code",
   "execution_count": 3,
   "metadata": {},
   "outputs": [
    {
     "name": "stdout",
     "output_type": "stream",
     "text": [
      "Ha ocurrido un error, introduce un dato correcto, Batido!!\n",
      "Ha ocurrido un error, introduce un dato correcto, Batido!!\n",
      "Ha ocurrido un error, introduce un dato correcto, Batido!!\n",
      "Ha ocurrido un error, introduce un dato correcto, Batido!!\n",
      "Ha ocurrido un error, introduce un dato correcto, Batido!!\n",
      "32.0/4=8.0\n",
      "Todo ha funcionando correctamente\n"
     ]
    }
   ],
   "source": [
    "while(True):\n",
    "    try:\n",
    "        n = float(input(\"Introduce un número\"))\n",
    "        m = 4\n",
    "        print(\"{}/{}={}\".format(n,m,n/m))\n",
    "        #break #importante romper la ejecución\n",
    "    except:\n",
    "        print(\"Ha ocurrido un error, introduce un dato correcto, Batido!!\")\n",
    "    else:\n",
    "        print(\"Todo ha funcionando correctamente\")\n",
    "        break"
   ]
  },
  {
   "cell_type": "code",
   "execution_count": 4,
   "metadata": {},
   "outputs": [
    {
     "name": "stdout",
     "output_type": "stream",
     "text": [
      "Ha ocurrido un error, introduce un dato correcto, Batido!!\n",
      "Finde la ejecución\n",
      "12.0/4=3.0\n",
      "Todo ha funcionando correctamente\n",
      "Finde la ejecución\n"
     ]
    }
   ],
   "source": [
    "while(True):\n",
    "    try:\n",
    "        n = float(input(\"Introduce un número\"))\n",
    "        m = 4\n",
    "        print(\"{}/{}={}\".format(n,m,n/m))\n",
    "        #break #importante romper la ejecución\n",
    "    except:\n",
    "        print(\"Ha ocurrido un error, introduce un dato correcto, Batido!!\")\n",
    "    else:\n",
    "        print(\"Todo ha funcionando correctamente\")\n",
    "        break\n",
    "    finally:\n",
    "        print(\"Finde la ejecución\")"
   ]
  },
  {
   "cell_type": "code",
   "execution_count": null,
   "metadata": {},
   "outputs": [],
   "source": []
  }
 ],
 "metadata": {
  "kernelspec": {
   "display_name": "Python 3",
   "language": "python",
   "name": "python3"
  },
  "language_info": {
   "codemirror_mode": {
    "name": "ipython",
    "version": 3
   },
   "file_extension": ".py",
   "mimetype": "text/x-python",
   "name": "python",
   "nbconvert_exporter": "python",
   "pygments_lexer": "ipython3",
   "version": "3.10.8"
  },
  "vscode": {
   "interpreter": {
    "hash": "aee8b7b246df8f9039afb4144a1f6fd8d2ca17a180786b69acc140d282b71a49"
   }
  }
 },
 "nbformat": 4,
 "nbformat_minor": 0
}
