{
 "cells": [
  {
   "cell_type": "code",
   "execution_count": 1,
   "metadata": {},
   "outputs": [],
   "source": [
    "class Producto():\n",
    "    def __init__(self, referencia, tipo, nombre, pvp, descripcion, distribuidor=None, productor=None, isbn=None, autor=None ):\n",
    "        self.referecia = referencia\n",
    "        self.tipo = tipo\n",
    "        self.nombre = nombre\n",
    "        self.pvp = pvp\n",
    "        self.descripcion = descripcion\n",
    "        self.distribuidor = distribuidor\n",
    "        self.produsctor = productor\n",
    "        self. isbn = isbn\n",
    "        self.autor = autor\n",
    "\n",
    "p = Producto(2035,'ADRONO', 'Vaso adornado', 15, 'Vaso adornado con dibujos')"
   ]
  },
  {
   "cell_type": "code",
   "execution_count": 2,
   "metadata": {},
   "outputs": [
    {
     "data": {
      "text/plain": [
       "'ADRONO'"
      ]
     },
     "execution_count": 2,
     "metadata": {},
     "output_type": "execute_result"
    }
   ],
   "source": [
    "p.tipo"
   ]
  },
  {
   "cell_type": "code",
   "execution_count": 16,
   "metadata": {},
   "outputs": [
    {
     "name": "stdout",
     "output_type": "stream",
     "text": [
      "Referencia:         2035\n",
      "Nombre:             Vaso adornado\n",
      "Precio de venta:    15\n",
      "Descripcion:        Vaso adornado con dibujos\n"
     ]
    }
   ],
   "source": [
    "class Producto():\n",
    "    def __init__(self, referencia, nombre, pvp, descripcion ):\n",
    "        self.referecia = referencia\n",
    "        self.nombre = nombre\n",
    "        self.pvp = pvp\n",
    "        self.descripcion = descripcion\n",
    "    def __str__(self):\n",
    "            return \"\"\"\\\n",
    "Referencia:         {}\n",
    "Nombre:             {}\n",
    "Precio de venta:    {}\n",
    "Descripcion:        {}\"\"\".format(self.referecia, self.nombre, self.pvp, self.descripcion)\n",
    "        \n",
    "class Adorno(Producto):\n",
    "    pass\n",
    "\n",
    "adorno = Producto(2035,'Vaso adornado', 15, 'Vaso adornado con dibujos')\n",
    "print(adorno)"
   ]
  },
  {
   "cell_type": "code",
   "execution_count": 49,
   "metadata": {},
   "outputs": [
    {
     "name": "stdout",
     "output_type": "stream",
     "text": [
      "Referencia:         2036\n",
      "Nombre:             Botella de Agua\n",
      "Precio de venta:    2\n",
      "Descripcion:        300ML\n",
      "Productor:          Bonafont SA\n",
      "Distribuidor:       Femsa SA\n"
     ]
    }
   ],
   "source": [
    "class Alimento(Producto):\n",
    "    productor = \"\"\n",
    "    distribuidor = \"\"\n",
    "    def __str__(self):\n",
    "        return \"\"\"\\\n",
    "Referencia:         {}\n",
    "Nombre:             {}\n",
    "Precio de venta:    {}\n",
    "Descripcion:        {}\n",
    "Productor:          {}\n",
    "Distribuidor:       {}\"\"\".format(\n",
    "    self.referecia, \n",
    "    self.nombre, \n",
    "    self.pvp, \n",
    "    self.descripcion,\n",
    "    self.productor,\n",
    "    self.distribuidor)\n",
    "\n",
    "al = Alimento(2036,'Botella de Agua', 2, '300ML')\n",
    "al.productor = \"Bonafont SA\"\n",
    "al.distribuidor = \"FEMSA SA\"\n",
    "\n",
    "print(al)\n"
   ]
  },
  {
   "cell_type": "code",
   "execution_count": 52,
   "metadata": {},
   "outputs": [
    {
     "name": "stdout",
     "output_type": "stream",
     "text": [
      "Referencia:         2037\n",
      "Nombre:             Cocina Facil\n",
      "Precio de venta:    8\n",
      "Descripcion:        Libro de recetas de cocina sencillas\n",
      "Autor:              Linus Troval\n",
      "ISBN:               12-123456-789\n"
     ]
    }
   ],
   "source": [
    "class Libro(Producto):\n",
    "    autor = \"\"\n",
    "    isbn = \"\"\n",
    "    def __str__(self):\n",
    "        return \"\"\"\\\n",
    "Referencia:         {}\n",
    "Nombre:             {}\n",
    "Precio de venta:    {}\n",
    "Descripcion:        {}\n",
    "Autor:              {}\n",
    "ISBN:               {}\"\"\".format(\n",
    "    self.referecia, \n",
    "    self.nombre, \n",
    "    self.pvp, \n",
    "    self.descripcion,\n",
    "    self.autor,\n",
    "    self.isbn)\n",
    "\n",
    "l = Libro(2037, 'Cocina Facil', 8, 'Libro de recetas de cocina sencillas')\n",
    "l.autor = 'Linus Troval'\n",
    "l.isbn = '12-123456-789'\n",
    "print(l)"
   ]
  },
  {
   "cell_type": "code",
   "execution_count": null,
   "metadata": {},
   "outputs": [],
   "source": []
  },
  {
   "cell_type": "code",
   "execution_count": null,
   "metadata": {},
   "outputs": [],
   "source": []
  },
  {
   "cell_type": "code",
   "execution_count": null,
   "metadata": {},
   "outputs": [],
   "source": []
  },
  {
   "cell_type": "code",
   "execution_count": null,
   "metadata": {},
   "outputs": [],
   "source": []
  },
  {
   "cell_type": "code",
   "execution_count": null,
   "metadata": {},
   "outputs": [],
   "source": []
  },
  {
   "cell_type": "code",
   "execution_count": null,
   "metadata": {},
   "outputs": [],
   "source": []
  }
 ],
 "metadata": {
  "kernelspec": {
   "display_name": "Python 3",
   "language": "python",
   "name": "python3"
  },
  "language_info": {
   "codemirror_mode": {
    "name": "ipython",
    "version": 3
   },
   "file_extension": ".py",
   "mimetype": "text/x-python",
   "name": "python",
   "nbconvert_exporter": "python",
   "pygments_lexer": "ipython3",
   "version": "3.10.8"
  },
  "vscode": {
   "interpreter": {
    "hash": "aee8b7b246df8f9039afb4144a1f6fd8d2ca17a180786b69acc140d282b71a49"
   }
  }
 },
 "nbformat": 4,
 "nbformat_minor": 0
}
