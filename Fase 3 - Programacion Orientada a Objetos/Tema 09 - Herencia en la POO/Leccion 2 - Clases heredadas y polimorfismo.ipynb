{
 "cells": [
  {
   "cell_type": "code",
   "execution_count": 96,
   "metadata": {
    "collapsed": true
   },
   "outputs": [],
   "source": [
    "class Producto:\n",
    "    def __init__(self,referencia,nombre,pvp,descripcion):\n",
    "        self.referencia = referencia\n",
    "        self.nombre = nombre\n",
    "        self.pvp = pvp\n",
    "        self.descripcion = descripcion\n",
    "        \n",
    "    def __str__(self):\n",
    "        return \"\"\"\\\n",
    "REFERENCIA\\t{}\n",
    "NOMBRE\\t\\t{}\n",
    "PVP\\t\\t{}\n",
    "DESCRIPCIÓN\\t{}\"\"\".format(self.referencia,self.nombre,self.pvp,self.descripcion)\n",
    "    \n",
    "\n",
    "class Adorno(Producto):\n",
    "    pass\n",
    "\n",
    "\n",
    "class Alimento(Producto):\n",
    "    productor = \"\"\n",
    "    distribuidor = \"\"\n",
    "    \n",
    "    def __str__(self):\n",
    "        return \"\"\"\\\n",
    "REFERENCIA\\t{}\n",
    "NOMBRE\\t\\t{}\n",
    "PVP\\t\\t{}\n",
    "DESCRIPCIÓN\\t{}\n",
    "PRODUCTOR\\t{}\n",
    "DISTRIBUIDOR\\t{}\"\"\".format(self.referencia,self.nombre,self.pvp,self.descripcion,self.productor,self.distribuidor)\n",
    "\n",
    "\n",
    "class Libro(Producto):\n",
    "    isbn = \"\"\n",
    "    autor = \"\"\n",
    "    \n",
    "    def __str__(self):\n",
    "        return \"\"\"\\\n",
    "REFERENCIA\\t{}\n",
    "NOMBRE\\t\\t{}\n",
    "PVP\\t\\t{}\n",
    "DESCRIPCIÓN\\t{}\n",
    "ISBN\\t\\t{}\n",
    "AUTOR\\t\\t{}\"\"\".format(self.referencia,self.nombre,self.pvp,self.descripcion,self.isbn,self.autor)"
   ]
  },
  {
   "cell_type": "code",
   "execution_count": 97,
   "metadata": {
    "collapsed": true
   },
   "outputs": [],
   "source": [
    "ad = Adorno(2035,'Vaso adornado', 15, 'Vaso adornado con dibujos')\n",
    "al = Alimento(2036,'Botella de Agua', 2, '300ML')\n",
    "al.productor = \"Bonafont SA\"\n",
    "al.distribuidor = \"FEMSA SA\"\n",
    "li = Libro(2037, 'Cocina Facil', 8, 'Libro de recetas de cocina sencillas')\n",
    "li.autor = 'Linus Troval'\n",
    "li.isbn = '12-123456-789'"
   ]
  },
  {
   "cell_type": "code",
   "execution_count": 98,
   "metadata": {},
   "outputs": [],
   "source": [
    "productos = [ad, al]"
   ]
  },
  {
   "cell_type": "code",
   "execution_count": 99,
   "metadata": {},
   "outputs": [],
   "source": [
    "productos.append(li)"
   ]
  },
  {
   "cell_type": "code",
   "execution_count": 100,
   "metadata": {},
   "outputs": [
    {
     "data": {
      "text/plain": [
       "[<__main__.Adorno at 0x1149521d0>,\n",
       " <__main__.Alimento at 0x114913e50>,\n",
       " <__main__.Libro at 0x114910c70>]"
      ]
     },
     "execution_count": 100,
     "metadata": {},
     "output_type": "execute_result"
    }
   ],
   "source": [
    "productos"
   ]
  },
  {
   "cell_type": "code",
   "execution_count": 101,
   "metadata": {},
   "outputs": [
    {
     "name": "stdout",
     "output_type": "stream",
     "text": [
      "[<__main__.Adorno object at 0x1149521d0>, <__main__.Alimento object at 0x114913e50>, <__main__.Libro object at 0x114910c70>]\n"
     ]
    }
   ],
   "source": [
    "print(productos)"
   ]
  },
  {
   "cell_type": "code",
   "execution_count": 102,
   "metadata": {},
   "outputs": [
    {
     "name": "stdout",
     "output_type": "stream",
     "text": [
      "REFERENCIA\t2035\n",
      "NOMBRE\t\tVaso adornado\n",
      "PVP\t\t15\n",
      "DESCRIPCIÓN\tVaso adornado con dibujos \n",
      "\n",
      "REFERENCIA\t2036\n",
      "NOMBRE\t\tBotella de Agua\n",
      "PVP\t\t2\n",
      "DESCRIPCIÓN\t300ML\n",
      "PRODUCTOR\tBonafont SA\n",
      "DISTRIBUIDOR\tFEMSA SA \n",
      "\n",
      "REFERENCIA\t2037\n",
      "NOMBRE\t\tCocina Facil\n",
      "PVP\t\t8\n",
      "DESCRIPCIÓN\tLibro de recetas de cocina sencillas\n",
      "ISBN\t\t12-123456-789\n",
      "AUTOR\t\tLinus Troval \n",
      "\n"
     ]
    }
   ],
   "source": [
    "for p in productos:\n",
    "    print(p, \"\\n\")"
   ]
  },
  {
   "cell_type": "code",
   "execution_count": 103,
   "metadata": {},
   "outputs": [
    {
     "name": "stdout",
     "output_type": "stream",
     "text": [
      "2035 Vaso adornado\n",
      "2036 Botella de Agua\n",
      "2037 Cocina Facil\n"
     ]
    }
   ],
   "source": [
    "for p in productos:\n",
    "    print(p.referencia, p.nombre)"
   ]
  },
  {
   "cell_type": "code",
   "execution_count": 104,
   "metadata": {},
   "outputs": [
    {
     "ename": "AttributeError",
     "evalue": "'Adorno' object has no attribute 'autor'",
     "output_type": "error",
     "traceback": [
      "\u001b[0;31m---------------------------------------------------------------------------\u001b[0m",
      "\u001b[0;31mAttributeError\u001b[0m                            Traceback (most recent call last)",
      "Cell \u001b[0;32mIn[104], line 2\u001b[0m\n\u001b[1;32m      1\u001b[0m \u001b[39mfor\u001b[39;00m p \u001b[39min\u001b[39;00m productos:\n\u001b[0;32m----> 2\u001b[0m     \u001b[39mprint\u001b[39m(p\u001b[39m.\u001b[39;49mautor)\n",
      "\u001b[0;31mAttributeError\u001b[0m: 'Adorno' object has no attribute 'autor'"
     ]
    }
   ],
   "source": [
    "for p in productos:\n",
    "    print(p.autor)"
   ]
  },
  {
   "cell_type": "code",
   "execution_count": 106,
   "metadata": {},
   "outputs": [
    {
     "name": "stdout",
     "output_type": "stream",
     "text": [
      "2035 Vaso adornado\n",
      "2036 Bonafont SA\n",
      "2037 Linus Troval\n"
     ]
    }
   ],
   "source": [
    "for p in productos:\n",
    "    if(isinstance(p, Alimento)):\n",
    "        print(p.referencia, p.productor)\n",
    "    elif(isinstance(p, Libro)):\n",
    "        print(p.referencia, p.autor)\n",
    "    elif(isinstance(p, Adorno)):\n",
    "        print(p.referencia, p.nombre)\n",
    "    "
   ]
  },
  {
   "cell_type": "code",
   "execution_count": 109,
   "metadata": {},
   "outputs": [
    {
     "name": "stdout",
     "output_type": "stream",
     "text": [
      "REFERENCIA\t2036\n",
      "NOMBRE\t\tBotella de Agua\n",
      "PVP\t\t1.024\n",
      "DESCRIPCIÓN\t300ML\n",
      "PRODUCTOR\tBonafont SA\n",
      "DISTRIBUIDOR\tFEMSA SA\n"
     ]
    }
   ],
   "source": [
    "def rebaja_producto(p, rebaja):\n",
    "    #polimorfismo de clases propieda del objeto en que objetos \n",
    "    #de distintas subclases pueden responder a la misma acción\n",
    "    \"\"\"Devuelve un producto con una rebaja\"\"\"\n",
    "    p.pvp = p.pvp - (p.pvp / 100 * rebaja)\n",
    "    return p \n",
    "\n",
    "al_rebajado = rebaja_producto(al, 20)\n",
    "\n",
    "print(al_rebajado)"
   ]
  },
  {
   "cell_type": "code",
   "execution_count": 110,
   "metadata": {},
   "outputs": [
    {
     "name": "stdout",
     "output_type": "stream",
     "text": [
      "REFERENCIA\t2036\n",
      "NOMBRE\t\tBotella de Agua\n",
      "PVP\t\t1.024\n",
      "DESCRIPCIÓN\t300ML\n",
      "PRODUCTOR\tBonafont SA\n",
      "DISTRIBUIDOR\tFEMSA SA\n"
     ]
    }
   ],
   "source": [
    "print(al)"
   ]
  },
  {
   "cell_type": "code",
   "execution_count": 111,
   "metadata": {},
   "outputs": [],
   "source": [
    "copia_al = al"
   ]
  },
  {
   "cell_type": "code",
   "execution_count": 112,
   "metadata": {},
   "outputs": [],
   "source": [
    "copia_al.referencia = 2039"
   ]
  },
  {
   "cell_type": "code",
   "execution_count": 113,
   "metadata": {},
   "outputs": [
    {
     "name": "stdout",
     "output_type": "stream",
     "text": [
      "REFERENCIA\t2039\n",
      "NOMBRE\t\tBotella de Agua\n",
      "PVP\t\t1.024\n",
      "DESCRIPCIÓN\t300ML\n",
      "PRODUCTOR\tBonafont SA\n",
      "DISTRIBUIDOR\tFEMSA SA\n"
     ]
    }
   ],
   "source": [
    "print(al)"
   ]
  },
  {
   "cell_type": "code",
   "execution_count": 114,
   "metadata": {},
   "outputs": [],
   "source": [
    "l = [1,2,3,]"
   ]
  },
  {
   "cell_type": "code",
   "execution_count": 115,
   "metadata": {},
   "outputs": [],
   "source": [
    "l1 = l"
   ]
  },
  {
   "cell_type": "code",
   "execution_count": 116,
   "metadata": {},
   "outputs": [],
   "source": [
    "l1.append(4)"
   ]
  },
  {
   "cell_type": "code",
   "execution_count": 117,
   "metadata": {},
   "outputs": [
    {
     "name": "stdout",
     "output_type": "stream",
     "text": [
      "[1, 2, 3, 4]\n"
     ]
    }
   ],
   "source": [
    "print(l)"
   ]
  },
  {
   "cell_type": "code",
   "execution_count": 118,
   "metadata": {},
   "outputs": [
    {
     "name": "stdout",
     "output_type": "stream",
     "text": [
      "REFERENCIA\t2035\n",
      "NOMBRE\t\tVaso adornado\n",
      "PVP\t\t15\n",
      "DESCRIPCIÓN\tVaso adornado con dibujos\n"
     ]
    }
   ],
   "source": [
    "import copy\n",
    "copia_ad = copy.copy(ad)\n",
    "print(copia_ad)"
   ]
  },
  {
   "cell_type": "code",
   "execution_count": 119,
   "metadata": {},
   "outputs": [],
   "source": [
    "copia_ad.referencia = 2030"
   ]
  },
  {
   "cell_type": "code",
   "execution_count": 121,
   "metadata": {},
   "outputs": [
    {
     "name": "stdout",
     "output_type": "stream",
     "text": [
      "REFERENCIA\t2035\n",
      "NOMBRE\t\tVaso adornado\n",
      "PVP\t\t15\n",
      "DESCRIPCIÓN\tVaso adornado con dibujos\n",
      "\n",
      "REFERENCIA\t2030\n",
      "NOMBRE\t\tVaso adornado\n",
      "PVP\t\t15\n",
      "DESCRIPCIÓN\tVaso adornado con dibujos\n"
     ]
    }
   ],
   "source": [
    "print(ad)\n",
    "print(\"\")\n",
    "print(copia_ad)\n"
   ]
  },
  {
   "cell_type": "code",
   "execution_count": null,
   "metadata": {},
   "outputs": [],
   "source": []
  }
 ],
 "metadata": {
  "kernelspec": {
   "display_name": "Python 3",
   "language": "python",
   "name": "python3"
  },
  "language_info": {
   "codemirror_mode": {
    "name": "ipython",
    "version": 3
   },
   "file_extension": ".py",
   "mimetype": "text/x-python",
   "name": "python",
   "nbconvert_exporter": "python",
   "pygments_lexer": "ipython3",
   "version": "3.10.8"
  },
  "vscode": {
   "interpreter": {
    "hash": "aee8b7b246df8f9039afb4144a1f6fd8d2ca17a180786b69acc140d282b71a49"
   }
  }
 },
 "nbformat": 4,
 "nbformat_minor": 0
}
