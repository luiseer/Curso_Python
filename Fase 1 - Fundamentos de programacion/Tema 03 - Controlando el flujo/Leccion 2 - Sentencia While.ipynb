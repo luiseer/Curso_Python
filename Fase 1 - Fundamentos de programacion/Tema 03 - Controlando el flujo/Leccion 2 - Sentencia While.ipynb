{
 "cells": [
  {
   "cell_type": "code",
   "execution_count": 2,
   "metadata": {
    "collapsed": true
   },
   "outputs": [
    {
     "name": "stdout",
     "output_type": "stream",
     "text": [
      "1\n",
      "2\n",
      "3\n",
      "4\n",
      "5\n",
      "6\n"
     ]
    }
   ],
   "source": [
    "c = 0\n",
    "while c <= 5:\n",
    "    c+=1\n",
    "    print(c)"
   ]
  },
  {
   "cell_type": "code",
   "execution_count": 3,
   "metadata": {},
   "outputs": [
    {
     "name": "stdout",
     "output_type": "stream",
     "text": [
      "1\n",
      "2\n",
      "3\n",
      "4\n",
      "5\n",
      "6\n",
      "Haz terminado de contar\n"
     ]
    }
   ],
   "source": [
    "c = 0\n",
    "while c <= 5:\n",
    "    c+=1\n",
    "    print(c)\n",
    "else:\n",
    "    print(\"Haz terminado de contar\")"
   ]
  },
  {
   "cell_type": "code",
   "execution_count": 4,
   "metadata": {},
   "outputs": [
    {
     "name": "stdout",
     "output_type": "stream",
     "text": [
      "1\n",
      "2\n",
      "3\n",
      "Se rompe el bucle\n"
     ]
    }
   ],
   "source": [
    "c = 0\n",
    "while c <= 5:\n",
    "    c+=1\n",
    "    if c == 4:\n",
    "        print(\"Se rompe el bucle\")\n",
    "        break\n",
    "    print(c)\n",
    "else:\n",
    "    print(\"se ha completado al iteracion y c vale \", c)"
   ]
  },
  {
   "cell_type": "code",
   "execution_count": 5,
   "metadata": {},
   "outputs": [
    {
     "name": "stdout",
     "output_type": "stream",
     "text": [
      "1\n",
      "2\n",
      "3\n",
      "Se contunua con la siguiente iteración\n",
      "5\n",
      "6\n",
      "se ha completado al iteracion y c vale  6\n"
     ]
    }
   ],
   "source": [
    "c = 0\n",
    "while c <= 5:\n",
    "    c+=1\n",
    "    if c == 4:\n",
    "        print(\"Se contunua con la siguiente iteración\")\n",
    "        continue\n",
    "    print(c)\n",
    "else:\n",
    "    print(\"se ha completado al iteracion y c vale \", c)"
   ]
  },
  {
   "cell_type": "code",
   "execution_count": 6,
   "metadata": {},
   "outputs": [
    {
     "name": "stdout",
     "output_type": "stream",
     "text": [
      "bien venido al menu interactivo\n",
      "Selecciona una opciòn\n",
      "          1.- Saludar\n",
      "          2.- Sumar dos números\n",
      "          3.- Salir\n",
      "Que pachuca batido\n",
      "Selecciona una opciòn\n",
      "          1.- Saludar\n",
      "          2.- Sumar dos números\n",
      "          3.- Salir\n",
      "El resultado de la suma es 15.0\n",
      "Selecciona una opciòn\n",
      "          1.- Saludar\n",
      "          2.- Sumar dos números\n",
      "          3.- Salir\n",
      "Comando desconocido vuelve a intentarlo\n",
      "Selecciona una opciòn\n",
      "          1.- Saludar\n",
      "          2.- Sumar dos números\n",
      "          3.- Salir\n",
      "Que pachuca batido\n",
      "Selecciona una opciòn\n",
      "          1.- Saludar\n",
      "          2.- Sumar dos números\n",
      "          3.- Salir\n",
      "Que pachuca batido\n",
      "Selecciona una opciòn\n",
      "          1.- Saludar\n",
      "          2.- Sumar dos números\n",
      "          3.- Salir\n",
      "Que pachuca batido\n",
      "Selecciona una opciòn\n",
      "          1.- Saludar\n",
      "          2.- Sumar dos números\n",
      "          3.- Salir\n",
      "Hasta el proximo bati codigo\n"
     ]
    }
   ],
   "source": [
    "print(\"bien venido al menu interactivo\")\n",
    "while (True):\n",
    "    print(\"\"\"Selecciona una opciòn\n",
    "          1.- Saludar\n",
    "          2.- Sumar dos números\n",
    "          3.- Salir\"\"\")\n",
    "    opcion = input()\n",
    "    if opcion == \"1\":\n",
    "        print(\"Que pachuca batido\")\n",
    "    elif opcion == \"2\":\n",
    "        n1 = float(input(\"Introduce el primer numero\"))\n",
    "        n2 = float(input(\"Introduce el segundo numero\"))\n",
    "        print(\"El resultado de la suma es\", n1 + n2)\n",
    "    elif opcion == \"3\":\n",
    "        print(\"Hasta el proximo bati codigo\")\n",
    "        break\n",
    "    else:\n",
    "        print(\"Comando desconocido vuelve a intentarlo\")"
   ]
  },
  {
   "cell_type": "code",
   "execution_count": null,
   "metadata": {},
   "outputs": [],
   "source": []
  }
 ],
 "metadata": {
  "kernelspec": {
   "display_name": "Python 3.9.6 64-bit",
   "language": "python",
   "name": "python3"
  },
  "language_info": {
   "codemirror_mode": {
    "name": "ipython",
    "version": 3
   },
   "file_extension": ".py",
   "mimetype": "text/x-python",
   "name": "python",
   "nbconvert_exporter": "python",
   "pygments_lexer": "ipython3",
   "version": "3.9.6"
  },
  "vscode": {
   "interpreter": {
    "hash": "31f2aee4e71d21fbe5cf8b01ff0e069b9275f58929596ceb00d14d90e3e16cd6"
   }
  }
 },
 "nbformat": 4,
 "nbformat_minor": 0
}
