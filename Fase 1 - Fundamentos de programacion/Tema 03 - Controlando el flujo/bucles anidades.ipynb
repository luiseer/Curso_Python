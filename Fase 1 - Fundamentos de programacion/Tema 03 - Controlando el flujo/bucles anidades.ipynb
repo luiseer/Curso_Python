{
 "cells": [
  {
   "cell_type": "code",
   "execution_count": 1,
   "metadata": {},
   "outputs": [
    {
     "data": {
      "text/plain": [
       "[50, 100, 150]"
      ]
     },
     "execution_count": 1,
     "metadata": {},
     "output_type": "execute_result"
    }
   ],
   "source": [
    "lista = [\"Hola\", 10, \"Adios\", [50,100,150]]\n",
    "lista[-1]"
   ]
  },
  {
   "cell_type": "code",
   "execution_count": 2,
   "metadata": {},
   "outputs": [
    {
     "data": {
      "text/plain": [
       "50"
      ]
     },
     "execution_count": 2,
     "metadata": {},
     "output_type": "execute_result"
    }
   ],
   "source": [
    "lista[-1][0]"
   ]
  },
  {
   "cell_type": "code",
   "execution_count": 3,
   "metadata": {},
   "outputs": [
    {
     "data": {
      "text/plain": [
       "150"
      ]
     },
     "execution_count": 3,
     "metadata": {},
     "output_type": "execute_result"
    }
   ],
   "source": [
    "lista[-1][-1]"
   ]
  },
  {
   "cell_type": "code",
   "execution_count": 4,
   "metadata": {},
   "outputs": [
    {
     "name": "stdout",
     "output_type": "stream",
     "text": [
      "50\n",
      "100\n",
      "150\n"
     ]
    }
   ],
   "source": [
    "for nuemro in lista[-1]:\n",
    "    print(nuemro)"
   ]
  },
  {
   "cell_type": "code",
   "execution_count": 10,
   "metadata": {},
   "outputs": [],
   "source": [
    "lista = [\n",
    "    \"Esto es un texo\",\n",
    "    (1,5,10,15,20,25),\n",
    "    [\"Azul\", \"Verde\", \"Amarillo\"]\n",
    "]\n"
   ]
  },
  {
   "cell_type": "code",
   "execution_count": 11,
   "metadata": {},
   "outputs": [
    {
     "name": "stdout",
     "output_type": "stream",
     "text": [
      "Esto es un texo\n",
      "(1, 5, 10, 15, 20, 25)\n",
      "['Azul', 'Verde', 'Amarillo']\n"
     ]
    }
   ],
   "source": [
    "for coleccion in lista:\n",
    "    print(coleccion)"
   ]
  },
  {
   "cell_type": "code",
   "execution_count": 12,
   "metadata": {},
   "outputs": [
    {
     "name": "stdout",
     "output_type": "stream",
     "text": [
      "Esto es un texo => E\n",
      "Esto es un texo => s\n",
      "Esto es un texo => t\n",
      "Esto es un texo => o\n",
      "Esto es un texo =>  \n",
      "Esto es un texo => e\n",
      "Esto es un texo => s\n",
      "Esto es un texo =>  \n",
      "Esto es un texo => u\n",
      "Esto es un texo => n\n",
      "Esto es un texo =>  \n",
      "Esto es un texo => t\n",
      "Esto es un texo => e\n",
      "Esto es un texo => x\n",
      "Esto es un texo => o\n",
      "(1, 5, 10, 15, 20, 25) => 1\n",
      "(1, 5, 10, 15, 20, 25) => 5\n",
      "(1, 5, 10, 15, 20, 25) => 10\n",
      "(1, 5, 10, 15, 20, 25) => 15\n",
      "(1, 5, 10, 15, 20, 25) => 20\n",
      "(1, 5, 10, 15, 20, 25) => 25\n",
      "['Azul', 'Verde', 'Amarillo'] => Azul\n",
      "['Azul', 'Verde', 'Amarillo'] => Verde\n",
      "['Azul', 'Verde', 'Amarillo'] => Amarillo\n"
     ]
    }
   ],
   "source": [
    "for coleccion in lista:\n",
    "    for elemento in coleccion:\n",
    "        print(coleccion, \"=>\", elemento)"
   ]
  },
  {
   "cell_type": "code",
   "execution_count": 14,
   "metadata": {},
   "outputs": [
    {
     "name": "stdout",
     "output_type": "stream",
     "text": [
      "Esto es un texo => E\n",
      "Esto es un texo => s\n",
      "Esto es un texo => t\n",
      "Esto es un texo => o\n",
      "Esto es un texo =>  \n",
      "Esto es un texo => e\n",
      "Esto es un texo => s\n",
      "Esto es un texo =>  \n",
      "Esto es un texo => u\n",
      "Esto es un texo => n\n",
      "Esto es un texo =>  \n",
      "Esto es un texo => t\n",
      "Esto es un texo => e\n",
      "Esto es un texo => x\n",
      "Esto es un texo => o\n",
      "(1, 5, 10, 15, 20, 25) => 1\n",
      "(1, 5, 10, 15, 20, 25) => 5\n",
      "(1, 5, 10, 15, 20, 25) => 10\n",
      "(1, 5, 10, 15, 20, 25) => 15\n",
      "(1, 5, 10, 15, 20, 25) => 20\n",
      "(1, 5, 10, 15, 20, 25) => 25\n",
      "['Azul', 'Verde', 'Amarillo'] => Azul\n",
      "['Azul', 'Verde', 'Amarillo'] => Verde\n",
      "['Azul', 'Verde', 'Amarillo'] => Amarillo\n"
     ]
    }
   ],
   "source": [
    "for indice_coleccion,coleccion in enumerate(lista):\n",
    "    for indice_elemento,elemento in enumerate(coleccion):\n",
    "        print(coleccion, \"=>\", elemento)"
   ]
  },
  {
   "cell_type": "code",
   "execution_count": 15,
   "metadata": {},
   "outputs": [
    {
     "name": "stdout",
     "output_type": "stream",
     "text": [
      "E\n",
      "s\n",
      "t\n",
      "o\n",
      " \n",
      "e\n",
      "s\n",
      " \n",
      "u\n",
      "n\n",
      " \n",
      "t\n",
      "e\n",
      "x\n",
      "o\n",
      "1\n",
      "5\n",
      "10\n",
      "15\n",
      "20\n",
      "25\n",
      "Azul\n",
      "Verde\n",
      "Amarillo\n"
     ]
    }
   ],
   "source": [
    "for indice_coleccion,coleccion in enumerate(lista):\n",
    "    for indice_elemento,elemento in enumerate(coleccion):\n",
    "        print(lista[indice_coleccion][indice_elemento])"
   ]
  },
  {
   "cell_type": "code",
   "execution_count": 16,
   "metadata": {},
   "outputs": [],
   "source": [
    "tabla = [\n",
    "     [0,0,0],\n",
    "     [1,1,1],\n",
    "     [2,2,2]\n",
    " ]"
   ]
  },
  {
   "cell_type": "code",
   "execution_count": 17,
   "metadata": {},
   "outputs": [
    {
     "name": "stdout",
     "output_type": "stream",
     "text": [
      "[0, 0, 0]\n",
      "[1, 1, 1]\n",
      "[2, 2, 2]\n"
     ]
    }
   ],
   "source": [
    "for fila in tabla:\n",
    "    print(fila)"
   ]
  },
  {
   "cell_type": "code",
   "execution_count": 25,
   "metadata": {},
   "outputs": [
    {
     "name": "stdout",
     "output_type": "stream",
     "text": [
      "0 0 0 \n",
      "1 1 1 \n",
      "2 2 2 \n"
     ]
    }
   ],
   "source": [
    "tabla = [\n",
    "     [0,0,0],\n",
    "     [1,1,1],\n",
    "     [2,2,2]\n",
    " ]\n",
    "for fila in tabla:\n",
    "    for columna in fila:\n",
    "        print(columna, end=\" \")\n",
    "    print()"
   ]
  },
  {
   "cell_type": "code",
   "execution_count": 28,
   "metadata": {},
   "outputs": [
    {
     "name": "stdout",
     "output_type": "stream",
     "text": [
      "0 0 0 \n",
      "1 1 1 \n",
      "2 2 2 \n"
     ]
    }
   ],
   "source": [
    "for i, fila in enumerate(tabla):\n",
    "    for j, columna in enumerate(fila):\n",
    "        print(tabla[i][j], end=\" \")\n",
    "    print()"
   ]
  },
  {
   "cell_type": "code",
   "execution_count": 3,
   "metadata": {},
   "outputs": [
    {
     "name": "stdout",
     "output_type": "stream",
     "text": [
      "* [1, 2, 3] 1\n",
      "* [1, 2, 3] 2\n",
      "* [1, 2, 3] 3\n",
      "* [4, 5, 6] 4\n",
      "* [4, 5, 6] 5\n",
      "* [4, 5, 6] 6\n",
      "* [7, 8, 9] 7\n",
      "* [7, 8, 9] 8\n",
      "* [7, 8, 9] 9\n"
     ]
    }
   ],
   "source": [
    "tabla1 =[1,2,3]\n",
    "tabla2 =[4,5,6]\n",
    "tabla3 =[7,8,9]\n",
    "\n",
    "cubo = [\n",
    "    tabla1, tabla2, tabla3\n",
    "]\n",
    "for columna in cubo:\n",
    "    for fila in columna:\n",
    "        print(\"*\",columna, fila)"
   ]
  },
  {
   "cell_type": "code",
   "execution_count": 1,
   "metadata": {},
   "outputs": [],
   "source": [
    "tabla = [\n",
    "     [0,0,0],\n",
    "     [1,1,1],\n",
    "     [2,2,2]\n",
    " ]\n",
    "cubo = [\n",
    "    tabla, tabla, tabla \n",
    "]"
   ]
  },
  {
   "cell_type": "code",
   "execution_count": 2,
   "metadata": {},
   "outputs": [
    {
     "name": "stdout",
     "output_type": "stream",
     "text": [
      "0\n"
     ]
    }
   ],
   "source": [
    "print(cubo[0][0][0])\n"
   ]
  },
  {
   "cell_type": "code",
   "execution_count": 3,
   "metadata": {},
   "outputs": [
    {
     "name": "stdout",
     "output_type": "stream",
     "text": [
      "1\n"
     ]
    }
   ],
   "source": [
    "print(cubo[2][1][2])"
   ]
  },
  {
   "cell_type": "code",
   "execution_count": 4,
   "metadata": {},
   "outputs": [
    {
     "name": "stdout",
     "output_type": "stream",
     "text": [
      "0\n",
      "0\n",
      "0\n",
      "1\n",
      "1\n",
      "1\n",
      "2\n",
      "2\n",
      "2\n",
      "0\n",
      "0\n",
      "0\n",
      "1\n",
      "1\n",
      "1\n",
      "2\n",
      "2\n",
      "2\n",
      "0\n",
      "0\n",
      "0\n",
      "1\n",
      "1\n",
      "1\n",
      "2\n",
      "2\n",
      "2\n"
     ]
    }
   ],
   "source": [
    "for tabla in cubo:\n",
    "    for fila in tabla:\n",
    "        for columna in fila:\n",
    "            print(columna)"
   ]
  },
  {
   "cell_type": "code",
   "execution_count": 5,
   "metadata": {},
   "outputs": [
    {
     "name": "stdout",
     "output_type": "stream",
     "text": [
      "0 0 0 \n",
      "1 1 1 \n",
      "2 2 2 \n",
      "\n",
      "0 0 0 \n",
      "1 1 1 \n",
      "2 2 2 \n",
      "\n",
      "0 0 0 \n",
      "1 1 1 \n",
      "2 2 2 \n",
      "\n"
     ]
    }
   ],
   "source": [
    "for k,tabla in enumerate(cubo):\n",
    "    for j,fila in enumerate(tabla):\n",
    "        for i,columna in enumerate(fila):\n",
    "            print(cubo[k][j][i], end=\" \")\n",
    "        print()\n",
    "    print()"
   ]
  },
  {
   "cell_type": "code",
   "execution_count": null,
   "metadata": {},
   "outputs": [],
   "source": []
  }
 ],
 "metadata": {
  "kernelspec": {
   "display_name": "Python 3.9.6 64-bit",
   "language": "python",
   "name": "python3"
  },
  "language_info": {
   "codemirror_mode": {
    "name": "ipython",
    "version": 3
   },
   "file_extension": ".py",
   "mimetype": "text/x-python",
   "name": "python",
   "nbconvert_exporter": "python",
   "pygments_lexer": "ipython3",
   "version": "3.9.6"
  },
  "orig_nbformat": 4,
  "vscode": {
   "interpreter": {
    "hash": "31f2aee4e71d21fbe5cf8b01ff0e069b9275f58929596ceb00d14d90e3e16cd6"
   }
  }
 },
 "nbformat": 4,
 "nbformat_minor": 2
}
