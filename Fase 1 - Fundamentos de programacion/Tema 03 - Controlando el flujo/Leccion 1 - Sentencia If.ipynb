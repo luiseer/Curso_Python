{
 "cells": [
  {
   "cell_type": "code",
   "execution_count": 3,
   "metadata": {
    "collapsed": true
   },
   "outputs": [],
   "source": [
    "#Flujo sentencia if\n",
    "if True:\n",
    "    print(\"Se cumple la ejecucion\")\n",
    "    print(\"Se muestra este print\")"
   ]
  },
  {
   "cell_type": "code",
   "execution_count": 6,
   "metadata": {},
   "outputs": [
    {
     "name": "stdout",
     "output_type": "stream",
     "text": [
      "a vale 2\n"
     ]
    }
   ],
   "source": [
    "a = 2\n",
    "if a == 2:\n",
    "    print(\"a vale 2\")\n",
    "if a == 5:\n",
    "    print(\"a vale 5\")"
   ]
  },
  {
   "cell_type": "code",
   "execution_count": 7,
   "metadata": {},
   "outputs": [
    {
     "name": "stdout",
     "output_type": "stream",
     "text": [
      "a vale  5\n",
      "b vale 10\n"
     ]
    }
   ],
   "source": [
    "a = 5 \n",
    "b = 10\n",
    "\n",
    "if a == 5:\n",
    "    print(\"a vale \", a)\n",
    "    if b == 10:\n",
    "        print(\"b vale\", b)"
   ]
  },
  {
   "cell_type": "code",
   "execution_count": 9,
   "metadata": {},
   "outputs": [
    {
     "name": "stdout",
     "output_type": "stream",
     "text": [
      "a vale: 5 b vale: 10\n"
     ]
    }
   ],
   "source": [
    "if a == 5 and b == 10:\n",
    "    print(\"a vale:\", a, \"b vale:\", b)"
   ]
  },
  {
   "cell_type": "code",
   "execution_count": 11,
   "metadata": {},
   "outputs": [
    {
     "name": "stdout",
     "output_type": "stream",
     "text": [
      "11 Es un nùmero inpar\n"
     ]
    }
   ],
   "source": [
    "n = 11\n",
    "if n % 2 == 0:\n",
    "    print(n, \"ES un número par\")\n",
    "else:\n",
    "    print(n, \"Es un nùmero inpar\")\n",
    "    "
   ]
  },
  {
   "cell_type": "code",
   "execution_count": 14,
   "metadata": {},
   "outputs": [
    {
     "name": "stdout",
     "output_type": "stream",
     "text": [
      "Bien venido al sistema\n"
     ]
    }
   ],
   "source": [
    "comando = \"ENTRAR\"\n",
    "if comando == \"ENTRAR\":\n",
    "    print(\"Bien venido al sistema\")\n",
    "elif comando == \"SALUDAR\":\n",
    "    print(\"Hola como estas??\")\n",
    "elif comando == \"SALIR\":\n",
    "    print(\"Saliendo del sistema\")\n",
    "else:\n",
    "    print(\"Este comando no se reconoce\")\n"
   ]
  },
  {
   "cell_type": "code",
   "execution_count": 17,
   "metadata": {},
   "outputs": [
    {
     "name": "stdout",
     "output_type": "stream",
     "text": [
      "nota insuficiente 4.0\n"
     ]
    }
   ],
   "source": [
    "nota = float(input(\"Introduce una nota\"))\n",
    "if nota >= 9:\n",
    "    print(\"Sobresaliente\", nota)\n",
    "elif nota >= 7:\n",
    "    print(\"Meehh\", nota)\n",
    "elif nota >= 6:\n",
    "    print(\"Eres un batido\", nota)\n",
    "else:\n",
    "    print(\"nota insuficiente\", nota)"
   ]
  },
  {
   "cell_type": "code",
   "execution_count": 21,
   "metadata": {},
   "outputs": [
    {
     "name": "stdout",
     "output_type": "stream",
     "text": [
      "nota insuficiente 5.0\n"
     ]
    }
   ],
   "source": [
    "nota = float(input(\"Introduce una nota\"))\n",
    "if nota >= 9:\n",
    "    print(\"Sobresaliente\", nota)\n",
    "if nota >= 7:\n",
    "    print(\"Meehh\", nota)\n",
    "if nota >= 6:\n",
    "    print(\"Eres un batido\", nota)\n",
    "if nota <= 5:\n",
    "    print(\"nota insuficiente\", nota)"
   ]
  }
 ],
 "metadata": {
  "kernelspec": {
   "display_name": "Python 3.9.6 64-bit",
   "language": "python",
   "name": "python3"
  },
  "language_info": {
   "codemirror_mode": {
    "name": "ipython",
    "version": 3
   },
   "file_extension": ".py",
   "mimetype": "text/x-python",
   "name": "python",
   "nbconvert_exporter": "python",
   "pygments_lexer": "ipython3",
   "version": "3.9.6"
  },
  "vscode": {
   "interpreter": {
    "hash": "31f2aee4e71d21fbe5cf8b01ff0e069b9275f58929596ceb00d14d90e3e16cd6"
   }
  }
 },
 "nbformat": 4,
 "nbformat_minor": 0
}
