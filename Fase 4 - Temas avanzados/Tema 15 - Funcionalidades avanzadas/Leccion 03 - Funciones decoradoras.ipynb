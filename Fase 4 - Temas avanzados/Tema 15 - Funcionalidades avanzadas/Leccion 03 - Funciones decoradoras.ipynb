{
 "cells": [
  {
   "cell_type": "markdown",
   "metadata": {},
   "source": [
    "# Ámbitos y funciones decoradoras"
   ]
  },
  {
   "cell_type": "markdown",
   "metadata": {},
   "source": [
    "#### NOTA: Antes de realizar esta lección debes reiniciar Jupyter Notebook para vaciar la memoria."
   ]
  },
  {
   "cell_type": "code",
   "execution_count": 3,
   "metadata": {
    "collapsed": true
   },
   "outputs": [],
   "source": [
    "def hola():\n",
    "    def bienvenido():\n",
    "        return 'hola'\n",
    "    return bienvenido\n"
   ]
  },
  {
   "cell_type": "code",
   "execution_count": 5,
   "metadata": {},
   "outputs": [
    {
     "data": {
      "text/plain": [
       "<function __main__.hola.<locals>.bienvenido()>"
      ]
     },
     "execution_count": 5,
     "metadata": {},
     "output_type": "execute_result"
    }
   ],
   "source": [
    "#Tiene un scoope local dentro de la función hola\n",
    "bienvenido()"
   ]
  },
  {
   "cell_type": "code",
   "execution_count": 5,
   "metadata": {},
   "outputs": [
    {
     "data": {
      "text/plain": [
       "<function __main__.hola.<locals>.bienvenido()>"
      ]
     },
     "execution_count": 5,
     "metadata": {},
     "output_type": "execute_result"
    }
   ],
   "source": [
    "hola()"
   ]
  },
  {
   "cell_type": "code",
   "execution_count": 2,
   "metadata": {},
   "outputs": [],
   "source": [
    "list = [1,2,3,4] #Scoope global\n",
    "def hola():\n",
    "    def bienvenido():#Scoope local\n",
    "        return 'hola'\n",
    "    print(locals())\n",
    "    print(globals())\n",
    "    return bienvenido\n"
   ]
  },
  {
   "cell_type": "code",
   "execution_count": 3,
   "metadata": {},
   "outputs": [
    {
     "name": "stdout",
     "output_type": "stream",
     "text": [
      "{'bienvenido': <function hola.<locals>.bienvenido at 0x112c959e0>}\n",
      "{'__name__': '__main__', '__doc__': 'Automatically created module for IPython interactive environment', '__package__': None, '__loader__': None, '__spec__': None, '__builtin__': <module 'builtins' (built-in)>, '__builtins__': <module 'builtins' (built-in)>, '_ih': ['', 'hola()', \"list = [1,2,3,4] #Scoope global\\ndef hola():\\n    def bienvenido():#Scoope local\\n        return 'hola'\\n    print(locals())\\n    print(globals())\\n    return bienvenido\", 'hola()'], '_oh': {}, '_dh': [PosixPath('/Users/emmanuelestrada/Documents/GitHub/Curso_Python/Fase 4 - Temas avanzados/Tema 15 - Funcionalidades avanzadas')], 'In': ['', 'hola()', \"list = [1,2,3,4] #Scoope global\\ndef hola():\\n    def bienvenido():#Scoope local\\n        return 'hola'\\n    print(locals())\\n    print(globals())\\n    return bienvenido\", 'hola()'], 'Out': {}, 'get_ipython': <bound method InteractiveShell.get_ipython of <ipykernel.zmqshell.ZMQInteractiveShell object at 0x11010d3a0>>, 'exit': <IPython.core.autocall.ZMQExitAutocall object at 0x11065a8a0>, 'quit': <IPython.core.autocall.ZMQExitAutocall object at 0x11065a8a0>, 'open': <function open at 0x10f3ee520>, '_': '', '__': '', '___': '', '__vsc_ipynb_file__': '/Users/emmanuelestrada/Documents/GitHub/Curso_Python/Fase 4 - Temas avanzados/Tema 15 - Funcionalidades avanzadas/Leccion 03 - Funciones decoradoras.ipynb', '_i': \"list = [1,2,3,4] #Scoope global\\ndef hola():\\n    def bienvenido():#Scoope local\\n        return 'hola'\\n    print(locals())\\n    print(globals())\\n    return bienvenido\", '_ii': 'hola()', '_iii': '', '_i1': 'hola()', '_i2': \"list = [1,2,3,4] #Scoope global\\ndef hola():\\n    def bienvenido():#Scoope local\\n        return 'hola'\\n    print(locals())\\n    print(globals())\\n    return bienvenido\", 'list': [1, 2, 3, 4], 'hola': <function hola at 0x112c94040>, '_i3': 'hola()'}\n"
     ]
    },
    {
     "data": {
      "text/plain": [
       "<function __main__.hola.<locals>.bienvenido()>"
      ]
     },
     "execution_count": 3,
     "metadata": {},
     "output_type": "execute_result"
    }
   ],
   "source": [
    "hola()"
   ]
  },
  {
   "cell_type": "code",
   "execution_count": 4,
   "metadata": {},
   "outputs": [
    {
     "data": {
      "text/plain": [
       "dict_keys(['__name__', '__doc__', '__package__', '__loader__', '__spec__', '__builtin__', '__builtins__', '_ih', '_oh', '_dh', 'In', 'Out', 'get_ipython', 'exit', 'quit', 'open', '_', '__', '___', '__vsc_ipynb_file__', '_i', '_ii', '_iii', '_i1', '_i2', 'list', 'hola', '_i3', '_3', '_i4'])"
      ]
     },
     "execution_count": 4,
     "metadata": {},
     "output_type": "execute_result"
    }
   ],
   "source": [
    "globals().keys()"
   ]
  },
  {
   "cell_type": "code",
   "execution_count": 5,
   "metadata": {},
   "outputs": [
    {
     "data": {
      "text/plain": [
       "[1, 2, 3, 4]"
      ]
     },
     "execution_count": 5,
     "metadata": {},
     "output_type": "execute_result"
    }
   ],
   "source": [
    "globals()['list']"
   ]
  },
  {
   "cell_type": "code",
   "execution_count": 6,
   "metadata": {},
   "outputs": [
    {
     "data": {
      "text/plain": [
       "<function __main__.hola.<locals>.bienvenido()>"
      ]
     },
     "execution_count": 6,
     "metadata": {},
     "output_type": "execute_result"
    }
   ],
   "source": [
    "def hola():\n",
    "    def bienvenido():\n",
    "        return 'hola'\n",
    "    return bienvenido\n",
    "\n",
    "hola()"
   ]
  },
  {
   "cell_type": "code",
   "execution_count": 7,
   "metadata": {},
   "outputs": [
    {
     "data": {
      "text/plain": [
       "'hola'"
      ]
     },
     "execution_count": 7,
     "metadata": {},
     "output_type": "execute_result"
    }
   ],
   "source": [
    "hola()()"
   ]
  },
  {
   "cell_type": "code",
   "execution_count": 8,
   "metadata": {},
   "outputs": [
    {
     "data": {
      "text/plain": [
       "'hola'"
      ]
     },
     "execution_count": 8,
     "metadata": {},
     "output_type": "execute_result"
    }
   ],
   "source": [
    "bienvenido = hola()\n",
    "bienvenido()"
   ]
  },
  {
   "cell_type": "code",
   "execution_count": 11,
   "metadata": {},
   "outputs": [
    {
     "name": "stdout",
     "output_type": "stream",
     "text": [
      "Hola!\n"
     ]
    }
   ],
   "source": [
    "def hola():\n",
    "    return 'Hola!'\n",
    "\n",
    "def test(fun):\n",
    "    print(fun())\n",
    "    \n",
    "test(hola)\n",
    "    "
   ]
  },
  {
   "cell_type": "code",
   "execution_count": 27,
   "metadata": {},
   "outputs": [],
   "source": [
    "def hola():\n",
    "    print('hola')\n",
    "def adios():\n",
    "    print('adios')\n",
    "\n"
   ]
  },
  {
   "cell_type": "code",
   "execution_count": 47,
   "metadata": {},
   "outputs": [
    {
     "name": "stdout",
     "output_type": "stream",
     "text": [
      "\t* Se está por ejecutar la función: decorar\n",
      "\t* Se está por ejecutar la función: hola\n",
      "Hola\n",
      "\t* Se ha finalizado la ejecución de la función hola\n",
      "\t* Se ha finalizado la ejecución de la función decorar\n"
     ]
    }
   ],
   "source": [
    "def monitorizar(funcion):\n",
    "      \n",
    "      def decorar():\n",
    "            print(\"\\t* Se está por ejecutar la función:\", \n",
    "                  funcion.__name__)\n",
    "            funcion()\n",
    "            print(\"\\t* Se ha finalizado la ejecución de la función\", \n",
    "                  funcion.__name__)\n",
    "            \n",
    "      return decorar\n",
    "\n",
    "def adios():\n",
    "      print(\"Adios!\")\n",
    "\n",
    "monitorizar(hola)()\n",
    "        "
   ]
  },
  {
   "cell_type": "code",
   "execution_count": 31,
   "metadata": {},
   "outputs": [
    {
     "name": "stdout",
     "output_type": "stream",
     "text": [
      "\t* Se está por ejecutar la función: hola\n",
      "hola\n",
      "\t* Se ha finalizado la ejecución de la función hola\n"
     ]
    }
   ],
   "source": [
    "monitorizar(hola)()"
   ]
  },
  {
   "cell_type": "code",
   "execution_count": 32,
   "metadata": {},
   "outputs": [
    {
     "name": "stdout",
     "output_type": "stream",
     "text": [
      "\t* Se está por ejecutar la función: adios\n",
      "Adios!\n",
      "\t* Se ha finalizado la ejecución de la función adios\n"
     ]
    }
   ],
   "source": [
    "monitorizar(adios)()"
   ]
  },
  {
   "cell_type": "code",
   "execution_count": 33,
   "metadata": {},
   "outputs": [],
   "source": [
    "@monitorizar\n",
    "def hola():\n",
    "    print(\"Hola\")\n",
    "    \n",
    "@monitorizar\n",
    "def adios():\n",
    "    print(\"Adios\")"
   ]
  },
  {
   "cell_type": "code",
   "execution_count": 34,
   "metadata": {},
   "outputs": [
    {
     "name": "stdout",
     "output_type": "stream",
     "text": [
      "\t* Se está por ejecutar la función: hola\n",
      "Hola\n",
      "\t* Se ha finalizado la ejecución de la función hola\n"
     ]
    }
   ],
   "source": [
    "hola()"
   ]
  },
  {
   "cell_type": "code",
   "execution_count": 35,
   "metadata": {},
   "outputs": [
    {
     "name": "stdout",
     "output_type": "stream",
     "text": [
      "\t* Se está por ejecutar la función: adios\n",
      "Adios\n",
      "\t* Se ha finalizado la ejecución de la función adios\n"
     ]
    }
   ],
   "source": [
    "adios()"
   ]
  },
  {
   "cell_type": "code",
   "execution_count": 48,
   "metadata": {},
   "outputs": [],
   "source": [
    "@monitorizar\n",
    "def saludos():\n",
    "    print(\"Hola, q hace ?\")\n"
   ]
  },
  {
   "cell_type": "code",
   "execution_count": 49,
   "metadata": {},
   "outputs": [
    {
     "name": "stdout",
     "output_type": "stream",
     "text": [
      "\t* Se está por ejecutar la función: saludos\n",
      "Hola, q hace ?\n",
      "\t* Se ha finalizado la ejecución de la función saludos\n"
     ]
    }
   ],
   "source": [
    "saludos()"
   ]
  },
  {
   "cell_type": "code",
   "execution_count": 54,
   "metadata": {},
   "outputs": [],
   "source": [
    "def monitorizar_args(funcion):\n",
    "      \n",
    "      def decorar(*args, **kwargs):\n",
    "            print(\"\\t* Se está por ejecutar la función:\", \n",
    "                  funcion.__name__)\n",
    "            \n",
    "            funcion(*args, **kwargs)\n",
    "            \n",
    "            print(\"\\t* Se ha finalizado la ejecución de la función\", \n",
    "                  funcion.__name__)\n",
    "            \n",
    "      return decorar"
   ]
  },
  {
   "cell_type": "code",
   "execution_count": 58,
   "metadata": {},
   "outputs": [],
   "source": [
    "@monitorizar_args\n",
    "def hola(nombre):\n",
    "    print(\"Hola {}!\".format(nombre))\n",
    "    \n",
    "@monitorizar_args\n",
    "def adios(nombre):\n",
    "    print(\"Adios {}!\".format(nombre))"
   ]
  },
  {
   "cell_type": "code",
   "execution_count": 60,
   "metadata": {},
   "outputs": [
    {
     "name": "stdout",
     "output_type": "stream",
     "text": [
      "\t* Se está por ejecutar la función: hola\n",
      "Hola Emmanuel!\n",
      "\t* Se ha finalizado la ejecución de la función hola\n"
     ]
    }
   ],
   "source": [
    "hola(\"Emmanuel\")"
   ]
  }
 ],
 "metadata": {
  "anaconda-cloud": {},
  "kernelspec": {
   "display_name": "Python [default]",
   "language": "python",
   "name": "python3"
  },
  "language_info": {
   "codemirror_mode": {
    "name": "ipython",
    "version": 3
   },
   "file_extension": ".py",
   "mimetype": "text/x-python",
   "name": "python",
   "nbconvert_exporter": "python",
   "pygments_lexer": "ipython3",
   "version": "3.12.3"
  }
 },
 "nbformat": 4,
 "nbformat_minor": 0
}
