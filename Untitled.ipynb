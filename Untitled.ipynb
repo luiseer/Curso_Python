{
 "cells": [
  {
   "cell_type": "markdown",
   "id": "4ddbe27c",
   "metadata": {},
   "source": [
    "# Esto es un titulo en Markdown\n",
    "## Esto es un subtitulo en Mardown\n",
    "Esto es un párrafo en Markdown\n",
    "\n",
    "*Esto es cursiva en Markdow*\n",
    "\n",
    "**Estas son negritas en Markdown**"
   ]
  },
  {
   "cell_type": "code",
   "execution_count": 4,
   "id": "c14941c1",
   "metadata": {},
   "outputs": [
    {
     "name": "stdout",
     "output_type": "stream",
     "text": [
      "hola mundo\n"
     ]
    }
   ],
   "source": [
    "print('hola mundo')"
   ]
  }
 ],
 "metadata": {
  "kernelspec": {
   "display_name": "Python 3 (ipykernel)",
   "language": "python",
   "name": "python3"
  },
  "language_info": {
   "codemirror_mode": {
    "name": "ipython",
    "version": 3
   },
   "file_extension": ".py",
   "mimetype": "text/x-python",
   "name": "python",
   "nbconvert_exporter": "python",
   "pygments_lexer": "ipython3",
   "version": "3.10.8"
  }
 },
 "nbformat": 4,
 "nbformat_minor": 5
}
